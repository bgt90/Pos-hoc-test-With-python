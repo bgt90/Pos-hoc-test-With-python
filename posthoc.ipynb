{
 "cells": [
  {
   "cell_type": "markdown",
   "metadata": {},
   "source": [
    "# Doing Post Hoc Test with Python"
   ]
  },
  {
   "cell_type": "markdown",
   "metadata": {},
   "source": [
    "## What is Pos Hoc Test?  \n",
    "Let's say, you are doing a simple analysis on Titanic dataset. You wanted to know if there's a different of `fare` between pclasses. You can do the analysis with a simple barchart below, which showed that the pclass 1 had higher fare on average compared to pclass 2 and 3. But this way of analysis is very subjective, therefore to confirm your conclusion, you are doing a hypothesis testing."
   ]
  },
  {
   "cell_type": "code",
   "execution_count": 2,
   "metadata": {},
   "outputs": [],
   "source": [
    "import pandas as pd\n",
    "import numpy as np\n",
    "from scipy.stats import f_oneway, kruskal, ttest_ind, mannwhitneyu\n",
    "import matplotlib.pyplot as plt\n",
    "import seaborn as sns\n",
    "from scikit_posthocs._posthocs import posthoc_tukey_hsd, posthoc_ttest\n",
    "from statsmodels.stats.multicomp import pairwise_tukeyhsd"
   ]
  },
  {
   "cell_type": "code",
   "execution_count": 3,
   "metadata": {},
   "outputs": [],
   "source": [
    "titanic=sns.load_dataset('titanic')\n",
    "# titanic"
   ]
  },
  {
   "cell_type": "code",
   "execution_count": 11,
   "metadata": {},
   "outputs": [
    {
     "data": {
      "text/plain": [
       "<matplotlib.axes._subplots.AxesSubplot at 0x1c1bcf058e0>"
      ]
     },
     "execution_count": 11,
     "metadata": {},
     "output_type": "execute_result"
    },
    {
     "data": {
      "image/png": "[encoded data removed]",
      "text/plain": [
       "<Figure size 432x288 with 1 Axes>"
      ]
     },
     "metadata": {
      "needs_background": "light"
     },
     "output_type": "display_data"
    }
   ],
   "source": [
    "sns.barplot(data=titanic, x='pclass',y='fare')"
   ]
  },
  {
   "cell_type": "markdown",
   "metadata": {},
   "source": [
    "For the sake of simplicity, let's assume that `fare` variable has a normal distribution and equal variance between groups. To test if there is a difference in `fare` between pclass, we can use `f_oneway` from scipy library."
   ]
  },
  {
   "cell_type": "code",
   "execution_count": 5,
   "metadata": {},
   "outputs": [
    {
     "name": "stdout",
     "output_type": "stream",
     "text": [
      "pval=9.431642534056226e-67, reject Ho\n"
     ]
    }
   ],
   "source": [
    "stats,pval=f_oneway(*[titanic['pclass']==i for i in titanic['pclass'].unique()])\n",
    "if pval<=0.05:\n",
    "    print(f'pval={pval}, reject Ho')\n",
    "else:\n",
    "    print(f'pval={pval}, accept Ho')"
   ]
  },
  {
   "cell_type": "markdown",
   "metadata": {},
   "source": [
    "After doing the test, we reject Ho, which mean **at least a pair of group** has difference, but we don't know which pair. To determine which pairs have differences, we can do further test. A statistical test done **after we reject Ho** in ANOVA test (such as F test or Kruskal Wallis) to determine which set of pair has significant differences is called *post hoc* test."
   ]
  },
  {
   "cell_type": "markdown",
   "metadata": {},
   "source": [
    "## Why do we need *post hoc* test?\n",
    "\n",
    "Technically, we can do multiple pairwise comparison (such as T-test) to check which pairs have significant differences, but doing so risk am increase of type 1 error (false positive). How come? When doing a hypothesis testing, we have a limit of the probability of type 1 error we can accept, called alpha. When the probability of type 1 error is below 0.05/5%, we reject null hyphothesis. Doing multiple comparison test silmutaneously, increase the overall rate of alpha.\n",
    "\n",
    "To understand futher, we can use dice throwing as an example. When throwing only 1 die, the probability of 1 to appear is 1/6.\n",
    "\n",
    "![image](dadu1.jpg)\n",
    "\n",
    "Now, if we have 2 dice, the probability of 1 to appear at least once, will increase to 11/36, almost twice as much compared to throwing 1 die!\n",
    "\n",
    "![image](dadu_2.jpg)\n",
    "\n",
    "The same concept applied when doing multiple pairwise comparison, if each test has alpha 0.05, doing 3 group pairwise comparison test will increase the overall alpha into 0.142625 as can be seen in the table below. This concept increased error rate is also known as **family-wise error rate**.\n",
    "\n",
    "![table](number_of_comparisons.png)  \n",
    "\n",
    "To correct family-wise error rate, *post hoc* test will usually adjust the p-value or alpha in each pairwise comparison test, therefore using test designed for *post hoc* is more advisable."
   ]
  },
  {
   "cell_type": "markdown",
   "metadata": {},
   "source": [
    "Now, let's try doing *post hoc* test with our `fare` data.  \n",
    "\n",
    "First, let's see the result of a multiple compariosn with ordinary T-test."
   ]
  },
  {
   "cell_type": "code",
   "execution_count": 6,
   "metadata": {},
   "outputs": [
    {
     "name": "stdout",
     "output_type": "stream",
     "text": [
      "pclass 1 vs pclass 3\n",
      "p-val=8.908959353672071e-68\n",
      "stats=19.448650285047485\n",
      "Reject ho\n",
      "\n",
      "pclass 2 vs pclass 3\n",
      "p-val=8.304239675888694e-11\n",
      "stats=6.600620525446866\n",
      "Reject ho\n",
      "\n",
      "pclass 2 vs pclass 1\n",
      "p-val=3.303644173119574e-24\n",
      "stats=-10.851594207309702\n",
      "Reject ho\n",
      "\n"
     ]
    }
   ],
   "source": [
    "data=titanic['pclass'].unique()\n",
    "\n",
    "hasil=[]\n",
    "for i in range(len(data)):\n",
    "    sementara=[]\n",
    "    for j in range(len(data)):\n",
    "        if i==j:\n",
    "            break\n",
    "        else:\n",
    "            stats,pval=ttest_ind(titanic[titanic['pclass']==data[i]]['fare'],titanic[titanic['pclass']==data[j]]['fare'])\n",
    "            print(f'pclass {data[i]} vs pclass {data[j]}\\np-val={pval}\\nstats={stats}')\n",
    "            if pval<=0.05:\n",
    "                print('Reject ho\\n')\n",
    "            else:\n",
    "                print('Accept Ho\\n')\n"
   ]
  },
  {
   "cell_type": "markdown",
   "metadata": {},
   "source": [
    "The test showed that all pairs have significant difference, even when pclass 2 and pclass 3 look quite close in the graph.  \n",
    "\n",
    "Let us compare the result above with the result from paiwise_tukeyhsd from `statsmodels.stats.multicomp` module. This test is based on Tukey HSD test, a popular single-step multiple comparison statistical test similar to T-test that is often used as a *post hoc* from ANOVA test."
   ]
  },
  {
   "cell_type": "code",
   "execution_count": 56,
   "metadata": {},
   "outputs": [
    {
     "name": "stdout",
     "output_type": "stream",
     "text": [
      " Multiple Comparison of Means - Tukey HSD, FWER=0.05  \n",
      "======================================================\n",
      "group1 group2 meandiff p-adj   lower    upper   reject\n",
      "------------------------------------------------------\n",
      "     1      2 -63.4925  0.001 -72.9167 -54.0683   True\n",
      "     1      3 -70.4791  0.001 -78.1491 -62.8092   True\n",
      "     2      3  -6.9866 0.1081 -15.1066   1.1333  False\n",
      "------------------------------------------------------\n"
     ]
    }
   ],
   "source": [
    "print(pairwise_tukeyhsd(endog=titanic['fare'],groups=titanic['pclass']))"
   ]
  },
  {
   "cell_type": "markdown",
   "metadata": {},
   "source": [
    "We can see that in contrast to the previous t-test, our *post hoc* test said that pclass 2 and 3 have no significant difference. We can assume that there is a type 1 error on the T-test results due to doing multiple comparison test silmutaneously."
   ]
  },
  {
   "cell_type": "markdown",
   "metadata": {},
   "source": [
    "# Scikit-posthocs Library\n",
    "\n",
    "Scikit and Statsmodel libraries in python offer limited options for *post hoc* analysis. Scikit-posthoc library tries to fill this gap. The library offers a lot of parametric and non parametric *post hoc* tests, along with outliers detection and basic plotting metods.  \n",
    "\n",
    "The output of their methods often is in matrix shape, which can be easily integrated for other use in python, such as visualization or dataframe manipulation."
   ]
  },
  {
   "cell_type": "markdown",
   "metadata": {},
   "source": [
    "For example, Scikit-posthocs' Tukey HSD test, presented the output in matrix shapes, which can be used in heatmap visualtization for easy intepretasion."
   ]
  },
  {
   "cell_type": "code",
   "execution_count": 7,
   "metadata": {},
   "outputs": [
    {
     "data": {
      "text/html": [
       "<div>\n",
       "<style scoped>\n",
       "    .dataframe tbody tr th:only-of-type {\n",
       "        vertical-align: middle;\n",
       "    }\n",
       "\n",
       "    .dataframe tbody tr th {\n",
       "        vertical-align: top;\n",
       "    }\n",
       "\n",
       "    .dataframe thead th {\n",
       "        text-align: right;\n",
       "    }\n",
       "</style>\n",
       "<table border=\"1\" class=\"dataframe\">\n",
       "  <thead>\n",
       "    <tr style=\"text-align: right;\">\n",
       "      <th></th>\n",
       "      <th>1</th>\n",
       "      <th>2</th>\n",
       "      <th>3</th>\n",
       "    </tr>\n",
       "  </thead>\n",
       "  <tbody>\n",
       "    <tr>\n",
       "      <th>1</th>\n",
       "      <td>1</td>\n",
       "      <td>1</td>\n",
       "      <td>1</td>\n",
       "    </tr>\n",
       "    <tr>\n",
       "      <th>2</th>\n",
       "      <td>1</td>\n",
       "      <td>1</td>\n",
       "      <td>0</td>\n",
       "    </tr>\n",
       "    <tr>\n",
       "      <th>3</th>\n",
       "      <td>1</td>\n",
       "      <td>0</td>\n",
       "      <td>1</td>\n",
       "    </tr>\n",
       "  </tbody>\n",
       "</table>\n",
       "</div>"
      ],
      "text/plain": [
       "   1  2  3\n",
       "1  1  1  1\n",
       "2  1  1  0\n",
       "3  1  0  1"
      ]
     },
     "execution_count": 7,
     "metadata": {},
     "output_type": "execute_result"
    }
   ],
   "source": [
    "posthoc_tukey_hsd(titanic['fare'],titanic['pclass'])"
   ]
  },
  {
   "cell_type": "code",
   "execution_count": 21,
   "metadata": {},
   "outputs": [
    {
     "data": {
      "text/plain": [
       "<matplotlib.axes._subplots.AxesSubplot at 0x1d19de90190>"
      ]
     },
     "execution_count": 21,
     "metadata": {},
     "output_type": "execute_result"
    },
    {
     "data": {
      "image/png": "[encoded data removed]",
      "text/plain": [
       "<Figure size 432x288 with 2 Axes>"
      ]
     },
     "metadata": {
      "needs_background": "light"
     },
     "output_type": "display_data"
    }
   ],
   "source": [
    "mat=posthoc_tukey_hsd(titanic['fare'],titanic['pclass'])\n",
    "labels=mat.applymap(lambda x: 'Reject Ho' if x==1 else 'Accept Ho')\n",
    "mask=np.triu(np.ones_like(mat))\n",
    "sns.heatmap(mat,mask=mask, linewidth=0.5, annot=labels, fmt='')\n"
   ]
  },
  {
   "cell_type": "markdown",
   "metadata": {},
   "source": [
    "Scipy-posthoc also provided other pairwise comparison tests, such as t-test that can be adjusted according to the numner of test done to correct family-error rate. the output of this the is a matrix of p-value of each comparison. As you can see, below, with this T-test, the result from comparing pclass 2 and pclass 3 is to accept Ho, consistent with Tukey HSD result."
   ]
  },
  {
   "cell_type": "code",
   "execution_count": 25,
   "metadata": {},
   "outputs": [
    {
     "data": {
      "text/html": [
       "<div>\n",
       "<style scoped>\n",
       "    .dataframe tbody tr th:only-of-type {\n",
       "        vertical-align: middle;\n",
       "    }\n",
       "\n",
       "    .dataframe tbody tr th {\n",
       "        vertical-align: top;\n",
       "    }\n",
       "\n",
       "    .dataframe thead th {\n",
       "        text-align: right;\n",
       "    }\n",
       "</style>\n",
       "<table border=\"1\" class=\"dataframe\">\n",
       "  <thead>\n",
       "    <tr style=\"text-align: right;\">\n",
       "      <th></th>\n",
       "      <th>1</th>\n",
       "      <th>2</th>\n",
       "      <th>3</th>\n",
       "    </tr>\n",
       "  </thead>\n",
       "  <tbody>\n",
       "    <tr>\n",
       "      <th>1</th>\n",
       "      <td>1.000000e+00</td>\n",
       "      <td>1.839337e-42</td>\n",
       "      <td>4.086661e-54</td>\n",
       "    </tr>\n",
       "    <tr>\n",
       "      <th>2</th>\n",
       "      <td>1.839337e-42</td>\n",
       "      <td>1.000000e+00</td>\n",
       "      <td>6.930598e-02</td>\n",
       "    </tr>\n",
       "    <tr>\n",
       "      <th>3</th>\n",
       "      <td>4.086661e-54</td>\n",
       "      <td>6.930598e-02</td>\n",
       "      <td>1.000000e+00</td>\n",
       "    </tr>\n",
       "  </tbody>\n",
       "</table>\n",
       "</div>"
      ],
      "text/plain": [
       "              1             2             3\n",
       "1  1.000000e+00  1.839337e-42  4.086661e-54\n",
       "2  1.839337e-42  1.000000e+00  6.930598e-02\n",
       "3  4.086661e-54  6.930598e-02  1.000000e+00"
      ]
     },
     "execution_count": 25,
     "metadata": {},
     "output_type": "execute_result"
    }
   ],
   "source": [
    "posthoc_ttest([titanic['pclass']==i for i in titanic['pclass'].unique()])"
   ]
  },
  {
   "cell_type": "code",
   "execution_count": 27,
   "metadata": {},
   "outputs": [
    {
     "data": {
      "text/html": [
       "<div>\n",
       "<style scoped>\n",
       "    .dataframe tbody tr th:only-of-type {\n",
       "        vertical-align: middle;\n",
       "    }\n",
       "\n",
       "    .dataframe tbody tr th {\n",
       "        vertical-align: top;\n",
       "    }\n",
       "\n",
       "    .dataframe thead th {\n",
       "        text-align: right;\n",
       "    }\n",
       "</style>\n",
       "<table border=\"1\" class=\"dataframe\">\n",
       "  <thead>\n",
       "    <tr style=\"text-align: right;\">\n",
       "      <th></th>\n",
       "      <th>group 1</th>\n",
       "      <th>group 2</th>\n",
       "      <th>result</th>\n",
       "    </tr>\n",
       "  </thead>\n",
       "  <tbody>\n",
       "    <tr>\n",
       "      <th>0</th>\n",
       "      <td>1</td>\n",
       "      <td>2</td>\n",
       "      <td>Reject Ho</td>\n",
       "    </tr>\n",
       "    <tr>\n",
       "      <th>1</th>\n",
       "      <td>1</td>\n",
       "      <td>3</td>\n",
       "      <td>Reject Ho</td>\n",
       "    </tr>\n",
       "    <tr>\n",
       "      <th>2</th>\n",
       "      <td>2</td>\n",
       "      <td>3</td>\n",
       "      <td>Accept Ho</td>\n",
       "    </tr>\n",
       "  </tbody>\n",
       "</table>\n",
       "</div>"
      ],
      "text/plain": [
       "   group 1 group 2     result\n",
       "0        1       2  Reject Ho\n",
       "1        1       3  Reject Ho\n",
       "2        2       3  Accept Ho"
      ]
     },
     "execution_count": 27,
     "metadata": {},
     "output_type": "execute_result"
    }
   ],
   "source": [
    "hasil=posthoc_ttest([titanic['pclass']==i for i in titanic['pclass'].unique()]).applymap(lambda x: 'Reject Ho' if x<=0.05 else 'Accept Ho')\n",
    "hasil.reset_index().melt(id_vars=['index']).iloc[[3,6,7]].rename(columns={'index':'group 1', 'variable':'group 2', 'value':'result'}).reset_index(drop=True)"
   ]
  },
  {
   "cell_type": "markdown",
   "metadata": {},
   "source": [
    "# Keys Takeaway\n",
    "* *Post hoc* test is a follow up pairwise comparison test for ANOVA.\n",
    "* When doing multiple comparison test, the rate of type one error increased, *post hoc* test correct this error.\n",
    "* Python has scikit-poshocs library that offers post hoc tests which can be easily integrated with other libraries."
   ]
  },
  {
   "cell_type": "markdown",
   "metadata": {},
   "source": [
    "Reference:  \n",
    "* https://statisticsbyjim.com/anova/post-hoc-tests-anova/  \n",
    "* https://www.statisticshowto.com/probability-and-statistics/statistics-definitions/post-hoc/  \n",
    "* https://www.statology.org/tukey-test-python/  \n",
    "* https://en.wikipedia.org/wiki/Tukey's_range_test  \n",
    "* https://en.wikipedia.org/wiki/Family-wise_error_rate  \n",
    "* https://scikit-posthocs.readthedocs.io/en/latest/intro/\n",
    "* https://scikit-posthocs.readthedocs.io/en/latest/generated/scikit_posthocs.posthoc_ttest/  \n",
    "* https://scikit-posthocs.readthedocs.io/en/latest/generated/scikit_posthocs.posthoc_tukey_hsd/"
   ]
  }
 ],
 "metadata": {
  "interpreter": {
   "hash": "f6cadb433fb4d5e490a52a7886e50fe75cf2fd39fd559aabdd1f0f7248e07363"
  },
  "kernelspec": {
   "display_name": "Python 3.8.3 64-bit ('base': conda)",
   "language": "python",
   "name": "python3"
  },
  "language_info": {
   "codemirror_mode": {
    "name": "ipython",
    "version": 3
   },
   "file_extension": ".py",
   "mimetype": "text/x-python",
   "name": "python",
   "nbconvert_exporter": "python",
   "pygments_lexer": "ipython3",
   "version": "3.8.3"
  },
  "orig_nbformat": 4
 },
 "nbformat": 4,
 "nbformat_minor": 2
}
